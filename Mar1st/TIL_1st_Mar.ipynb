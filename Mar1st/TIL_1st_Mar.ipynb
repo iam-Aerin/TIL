{
 "cells": [
  {
   "cell_type": "markdown",
   "id": "4c0708c0-01a3-4233-9610-2f2311035fd1",
   "metadata": {},
   "source": [
    "# 1. k-최근접 이웃 회귀\n",
    ":  K-NN Regression(K-최근접 이웃 회귀) 알고리즘은 주변의 가장 가까운 K개의 샘플을 통해 값을 예측하는 방식\n",
    "출처: https://rebro.kr/184 [Rebro의 코딩 일기장:티스토리]\n",
    "\n"
   ]
  },
  {
   "cell_type": "markdown",
   "id": "007e8894-6d5e-427d-bb24-2f8327b60243",
   "metadata": {},
   "source": [
    "`from sklearn.neighbors import KNeighborsRegressor` 을 통해 `k-최근접 회귀모델`로 학습 시킴. "
   ]
  },
  {
   "cell_type": "markdown",
   "id": "e7b0c7e5-2b3b-41f2-8365-0d539ac066e3",
   "metadata": {},
   "source": [
    "## 1-1. 과대적합과 과소적합 (p.122)\n",
    ": 과대적합과 과소적합은 절대적인 기준값이 없고, 내가 k의 수치를 조정해가면서 최적의 모델을 발겮"
   ]
  }
 ],
 "metadata": {
  "kernelspec": {
   "display_name": "Python 3 (ipykernel)",
   "language": "python",
   "name": "python3"
  },
  "language_info": {
   "codemirror_mode": {
    "name": "ipython",
    "version": 3
   },
   "file_extension": ".py",
   "mimetype": "text/x-python",
   "name": "python",
   "nbconvert_exporter": "python",
   "pygments_lexer": "ipython3",
   "version": "3.13.2"
  }
 },
 "nbformat": 4,
 "nbformat_minor": 5
}
