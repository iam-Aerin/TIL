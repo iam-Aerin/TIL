{
 "cells": [
  {
   "cell_type": "markdown",
   "id": "4c0708c0-01a3-4233-9610-2f2311035fd1",
   "metadata": {},
   "source": [
    "# 1. k-최근접 이웃 회귀 `3-1`\n",
    ":  K-NN Regression(K-최근접 이웃 회귀) 알고리즘은 주변의 가장 가까운 K개의 샘플을 통해 값을 예측하는 방식\n",
    "출처: https://rebro.kr/184 [Rebro의 코딩 일기장:티스토리]\n",
    "\n"
   ]
  },
  {
   "cell_type": "markdown",
   "id": "007e8894-6d5e-427d-bb24-2f8327b60243",
   "metadata": {},
   "source": [
    "`from sklearn.neighbors import KNeighborsRegressor` 을 통해 `k-최근접 회귀모델`로 학습 시킴. "
   ]
  },
  {
   "cell_type": "markdown",
   "id": "e7b0c7e5-2b3b-41f2-8365-0d539ac066e3",
   "metadata": {},
   "source": [
    "## 1-1. 과대적합과 과소적합 (p.122) `3-2`\n",
    ": 과대적합과 과소적합은 절대적인 기준값이 없고, 내가 k의 수치를 조정해가면서 최적의 모델을 발겮"
   ]
  },
  {
   "cell_type": "markdown",
   "id": "cd28a48c-e523-4620-aff1-f4849162d04a",
   "metadata": {},
   "source": [
    "# 2. 선형 회귀 (Linear regression) (p.130) \n",
    "- 데이터를 가장 잘 대변하는 최적의 선을 찾는 과정임.\n",
    "- 수업 시간에는 `fish_csv` 파일을 통해 선형 회귀, 그 이후의 특성공학을 통한 규제,릿지, 라쏘 회귀 모델을 적용해봤음.\n",
    "\n",
    "---\n",
    "\n"
   ]
  },
  {
   "cell_type": "code",
   "execution_count": 2,
   "id": "533732af-b2be-48ad-b388-3ee810502d41",
   "metadata": {},
   "outputs": [],
   "source": [
    "# TIL을 위해 또 다른 데이터를 활용하여 선형 회귀를 진행해보겠음. "
   ]
  },
  {
   "cell_type": "code",
   "execution_count": null,
   "id": "508a2090-d646-4244-b8e8-27cb1e6d5103",
   "metadata": {},
   "outputs": [],
   "source": []
  },
  {
   "cell_type": "code",
   "execution_count": null,
   "id": "d92bc3fc-85d5-4432-817e-c24227fe671e",
   "metadata": {},
   "outputs": [],
   "source": []
  }
 ],
 "metadata": {
  "kernelspec": {
   "display_name": "Python 3 (ipykernel)",
   "language": "python",
   "name": "python3"
  },
  "language_info": {
   "codemirror_mode": {
    "name": "ipython",
    "version": 3
   },
   "file_extension": ".py",
   "mimetype": "text/x-python",
   "name": "python",
   "nbconvert_exporter": "python",
   "pygments_lexer": "ipython3",
   "version": "3.13.2"
  }
 },
 "nbformat": 4,
 "nbformat_minor": 5
}
